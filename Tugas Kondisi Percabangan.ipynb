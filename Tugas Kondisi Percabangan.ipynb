{
 "cells": [
  {
   "cell_type": "code",
   "execution_count": 6,
   "id": "ef1568a4",
   "metadata": {},
   "outputs": [
    {
     "name": "stdout",
     "output_type": "stream",
     "text": [
      "Masukan Umur Anak: 10\n",
      "Masukan Tinggi Anak (cm): 155\n",
      "Tarif yang harus dibayar: Rp 80000\n"
     ]
    }
   ],
   "source": [
    "#umur <2 Dilarang masuk\n",
    "#umur <4 tarif Rp.30.000 tinggi badan >=70 cm tarif bertambah 10.000\n",
    "#umur <7 tarif Rp.40.000 tinggi badan >=120 cm tarif bertambah 15.000\n",
    "#umur <10 tarif Rp.50.000 tinggi badan >=150 cm tarif bertambah 20.000\n",
    "#umur >10 tarif Rp.80.000\n",
    "\n",
    "umur_anak = int(input('Masukan Umur Anak: '))\n",
    "tinggi_anak = int(input('Masukan Tinggi Anak (cm): '))\n",
    "tarif = \"\"\n",
    "\n",
    "if umur_anak < 2:\n",
    "    print('Dilarang Masuk')\n",
    "elif umur_anak < 4:\n",
    "    tarif = 30000\n",
    "    if umur_anak == 2 or umur_anak == 3:\n",
    "        if tinggi_anak > 70:\n",
    "            tarif += 10000\n",
    "elif umur_anak < 7:\n",
    "    tarif = 40000\n",
    "    if umur_anak == 4 or umur_anak == 6:\n",
    "        if tinggi_anak > 120:\n",
    "            tarif += 15000\n",
    "elif umur_anak < 10:\n",
    "    tarif = 50000\n",
    "    if umur_anak == 8 or umur_anak == 9:\n",
    "        if tinggi_anak > 150:\n",
    "            tarif += 20000\n",
    "elif umur_anak >= 10:\n",
    "    tarif = 80000\n",
    "\n",
    "print(\"Tarif yang harus dibayar: Rp\", tarif)"
   ]
  },
  {
   "cell_type": "code",
   "execution_count": null,
   "id": "0a20ffaa",
   "metadata": {},
   "outputs": [],
   "source": []
  }
 ],
 "metadata": {
  "kernelspec": {
   "display_name": "Python 3 (ipykernel)",
   "language": "python",
   "name": "python3"
  },
  "language_info": {
   "codemirror_mode": {
    "name": "ipython",
    "version": 3
   },
   "file_extension": ".py",
   "mimetype": "text/x-python",
   "name": "python",
   "nbconvert_exporter": "python",
   "pygments_lexer": "ipython3",
   "version": "3.11.5"
  }
 },
 "nbformat": 4,
 "nbformat_minor": 5
}
